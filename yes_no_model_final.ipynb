{
 "cells": [
  {
   "cell_type": "code",
   "execution_count": 11,
   "metadata": {},
   "outputs": [
    {
     "data": {
      "text/plain": [
       "(536, 256, 256, 3)"
      ]
     },
     "execution_count": 11,
     "metadata": {},
     "output_type": "execute_result"
    }
   ],
   "source": [
    "import os\n",
    "import random\n",
    "from glob import glob\n",
    "\n",
    "import cv2\n",
    "import numpy as np\n",
    "import matplotlib.pyplot as plt\n",
    "from keras import preprocessing\n",
    "\n",
    "%matplotlib inline\n",
    "\n",
    "class_names = ['yes', 'no']\n",
    "\n",
    "width = 256\n",
    "height = 256\n",
    "\n",
    "def load_images(base_path):\n",
    "    images = []\n",
    "    path = os.path.join(base_path, '*.jpg')\n",
    "    for image_path in glob(path):\n",
    "        image = preprocessing.image.load_img(image_path,\n",
    "                                             target_size=(width, height))\n",
    "        x = preprocessing.image.img_to_array(image)\n",
    "\n",
    "        images.append(x)\n",
    "    return images\n",
    "\n",
    "images_type_0 = load_images('I:/BBBB/yes_no/train/yes')\n",
    "images_type_1 = load_images('I:/BBBB/yes_no/train/no')\n",
    "\n",
    "X_type_0 = np.array(images_type_0)\n",
    "X_type_1 = np.array(images_type_1)\n",
    "\n",
    "# one big array containing ALL the images:\n",
    "X = np.concatenate((X_type_0, X_type_1), axis=0)\n",
    "\n",
    "X = X / 255.\n",
    "\n",
    "X.shape"
   ]
  },
  {
   "cell_type": "code",
   "execution_count": 12,
   "metadata": {},
   "outputs": [
    {
     "name": "stdout",
     "output_type": "stream",
     "text": [
      "(536, 2)\n"
     ]
    }
   ],
   "source": [
    "from keras.utils import to_categorical\n",
    "\n",
    "y_type_0 = [0 for item in enumerate(X_type_0)]\n",
    "y_type_1 = [1 for item in enumerate(X_type_1)]\n",
    "\n",
    "y = np.concatenate((y_type_0, y_type_1), axis=0)\n",
    "\n",
    "y = to_categorical(y, num_classes=len(class_names))\n",
    "\n",
    "print(y.shape)"
   ]
  },
  {
   "cell_type": "code",
   "execution_count": 13,
   "metadata": {},
   "outputs": [],
   "source": [
    "from keras.models import Sequential\n",
    "from keras.layers.core import Activation, Dropout, Flatten, Dense\n",
    "from keras.layers.convolutional import Convolution2D, MaxPooling2D\n",
    "from keras.optimizers import Adam\n",
    "\n",
    "# default parameters\n",
    "conv_1 = 16\n",
    "conv_1_drop = 0.2\n",
    "conv_2 = 32\n",
    "conv_2_drop = 0.2\n",
    "dense_1_n = 1024\n",
    "dense_1_drop = 0.2\n",
    "dense_2_n = 512\n",
    "dense_2_drop = 0.2\n",
    "lr = 0.001\n",
    "\n",
    "epochs = 30\n",
    "batch_size = 32\n",
    "color_channels = 3\n",
    "\n",
    "def build_model(conv_1_drop=conv_1_drop, conv_2_drop=conv_2_drop,\n",
    "                dense_1_n=dense_1_n, dense_1_drop=dense_1_drop,\n",
    "                dense_2_n=dense_2_n, dense_2_drop=dense_2_drop,\n",
    "                lr=lr):\n",
    "    model = Sequential()\n",
    "\n",
    "    model.add(Convolution2D(conv_1, (3, 3),\n",
    "                            input_shape=(width, height, color_channels),\n",
    "                            activation='relu'))\n",
    "    model.add(MaxPooling2D(pool_size=(2, 2)))\n",
    "    model.add(Dropout(conv_1_drop))\n",
    "\n",
    "    model.add(Convolution2D(conv_2, (3, 3), activation='relu'))\n",
    "    model.add(MaxPooling2D(pool_size=(2, 2)))\n",
    "    model.add(Dropout(conv_2_drop))\n",
    "        \n",
    "    model.add(Flatten())\n",
    "        \n",
    "    model.add(Dense(dense_1_n, activation='relu'))\n",
    "    model.add(Dropout(dense_1_drop))\n",
    "\n",
    "    model.add(Dense(dense_2_n, activation='relu'))\n",
    "    model.add(Dropout(dense_2_drop))\n",
    "\n",
    "    model.add(Dense(len(class_names), activation='softmax'))\n",
    "\n",
    "    model.compile(loss='categorical_crossentropy',\n",
    "                  optimizer=Adam(lr=lr),\n",
    "                  metrics=['accuracy'])\n",
    "\n",
    "    return model"
   ]
  },
  {
   "cell_type": "code",
   "execution_count": 14,
   "metadata": {},
   "outputs": [
    {
     "name": "stdout",
     "output_type": "stream",
     "text": [
      "_________________________________________________________________\n",
      "Layer (type)                 Output Shape              Param #   \n",
      "=================================================================\n",
      "conv2d_3 (Conv2D)            (None, 254, 254, 16)      448       \n",
      "_________________________________________________________________\n",
      "max_pooling2d_3 (MaxPooling2 (None, 127, 127, 16)      0         \n",
      "_________________________________________________________________\n",
      "dropout_5 (Dropout)          (None, 127, 127, 16)      0         \n",
      "_________________________________________________________________\n",
      "conv2d_4 (Conv2D)            (None, 125, 125, 32)      4640      \n",
      "_________________________________________________________________\n",
      "max_pooling2d_4 (MaxPooling2 (None, 62, 62, 32)        0         \n",
      "_________________________________________________________________\n",
      "dropout_6 (Dropout)          (None, 62, 62, 32)        0         \n",
      "_________________________________________________________________\n",
      "flatten_2 (Flatten)          (None, 123008)            0         \n",
      "_________________________________________________________________\n",
      "dense_4 (Dense)              (None, 1024)              125961216 \n",
      "_________________________________________________________________\n",
      "dropout_7 (Dropout)          (None, 1024)              0         \n",
      "_________________________________________________________________\n",
      "dense_5 (Dense)              (None, 512)               524800    \n",
      "_________________________________________________________________\n",
      "dropout_8 (Dropout)          (None, 512)               0         \n",
      "_________________________________________________________________\n",
      "dense_6 (Dense)              (None, 2)                 1026      \n",
      "=================================================================\n",
      "Total params: 126,492,130\n",
      "Trainable params: 126,492,130\n",
      "Non-trainable params: 0\n",
      "_________________________________________________________________\n"
     ]
    }
   ],
   "source": [
    "import numpy as np\n",
    "np.random.seed(1) # for reproducibility\n",
    "\n",
    "# model with base parameters\n",
    "model = build_model()\n",
    "\n",
    "model.summary()"
   ]
  },
  {
   "cell_type": "code",
   "execution_count": 15,
   "metadata": {},
   "outputs": [],
   "source": [
    "epochs = 10"
   ]
  },
  {
   "cell_type": "code",
   "execution_count": 16,
   "metadata": {},
   "outputs": [
    {
     "name": "stdout",
     "output_type": "stream",
     "text": [
      "Epoch 1/10\n",
      "536/536 [==============================] - 271s 506ms/step - loss: 1.6075 - acc: 0.8582 23:52 - loss:\n",
      "Epoch 2/10\n",
      "536/536 [==============================] - 64s 119ms/step - loss: 1.6840 - acc: 0.8955\n",
      "Epoch 3/10\n",
      "536/536 [==============================] - 44s 82ms/step - loss: 1.6840 - acc: 0.8955\n",
      "Epoch 4/10\n",
      "536/536 [==============================] - 40s 74ms/step - loss: 1.6840 - acc: 0.8955\n",
      "Epoch 5/10\n",
      "536/536 [==============================] - 39s 73ms/step - loss: 1.6840 - acc: 0.8955\n",
      "Epoch 6/10\n",
      "536/536 [==============================] - 39s 73ms/step - loss: 1.6840 - acc: 0.8955\n",
      "Epoch 7/10\n",
      "536/536 [==============================] - 40s 74ms/step - loss: 1.6840 - acc: 0.8955\n",
      "Epoch 8/10\n",
      "536/536 [==============================] - 40s 74ms/step - loss: 1.6840 - acc: 0.8955\n",
      "Epoch 9/10\n",
      "536/536 [==============================] - 39s 73ms/step - loss: 1.6840 - acc: 0.8955\n",
      "Epoch 10/10\n",
      "536/536 [==============================] - 40s 74ms/step - loss: 1.6840 - acc: 0.8955\n"
     ]
    },
    {
     "data": {
      "text/plain": [
       "<keras.callbacks.History at 0x1ef82aa2a58>"
      ]
     },
     "execution_count": 16,
     "metadata": {},
     "output_type": "execute_result"
    }
   ],
   "source": [
    "model.fit(X, y, epochs=epochs)"
   ]
  },
  {
   "cell_type": "code",
   "execution_count": 17,
   "metadata": {},
   "outputs": [
    {
     "name": "stdout",
     "output_type": "stream",
     "text": [
      "_________________________________________________________________\n",
      "Layer (type)                 Output Shape              Param #   \n",
      "=================================================================\n",
      "conv2d_3 (Conv2D)            (None, 254, 254, 16)      448       \n",
      "_________________________________________________________________\n",
      "max_pooling2d_3 (MaxPooling2 (None, 127, 127, 16)      0         \n",
      "_________________________________________________________________\n",
      "dropout_5 (Dropout)          (None, 127, 127, 16)      0         \n",
      "_________________________________________________________________\n",
      "conv2d_4 (Conv2D)            (None, 125, 125, 32)      4640      \n",
      "_________________________________________________________________\n",
      "max_pooling2d_4 (MaxPooling2 (None, 62, 62, 32)        0         \n",
      "_________________________________________________________________\n",
      "dropout_6 (Dropout)          (None, 62, 62, 32)        0         \n",
      "_________________________________________________________________\n",
      "flatten_2 (Flatten)          (None, 123008)            0         \n",
      "_________________________________________________________________\n",
      "dense_4 (Dense)              (None, 1024)              125961216 \n",
      "_________________________________________________________________\n",
      "dropout_7 (Dropout)          (None, 1024)              0         \n",
      "_________________________________________________________________\n",
      "dense_5 (Dense)              (None, 512)               524800    \n",
      "_________________________________________________________________\n",
      "dropout_8 (Dropout)          (None, 512)               0         \n",
      "_________________________________________________________________\n",
      "dense_6 (Dense)              (None, 2)                 1026      \n",
      "=================================================================\n",
      "Total params: 126,492,130\n",
      "Trainable params: 126,492,130\n",
      "Non-trainable params: 0\n",
      "_________________________________________________________________\n"
     ]
    }
   ],
   "source": [
    "model.summary()"
   ]
  },
  {
   "cell_type": "code",
   "execution_count": 18,
   "metadata": {},
   "outputs": [],
   "source": [
    "model.save('yes_no_final.h5')"
   ]
  },
  {
   "cell_type": "code",
   "execution_count": null,
   "metadata": {},
   "outputs": [],
   "source": []
  }
 ],
 "metadata": {
  "kernelspec": {
   "display_name": "Python 3",
   "language": "python",
   "name": "python3"
  },
  "language_info": {
   "codemirror_mode": {
    "name": "ipython",
    "version": 3
   },
   "file_extension": ".py",
   "mimetype": "text/x-python",
   "name": "python",
   "nbconvert_exporter": "python",
   "pygments_lexer": "ipython3",
   "version": "3.7.3"
  }
 },
 "nbformat": 4,
 "nbformat_minor": 2
}
